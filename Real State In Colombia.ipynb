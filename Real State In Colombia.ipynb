{
    "cells": [
        {
            "cell_type": "markdown",
            "metadata": {},
            "source": "![alt text](https://internationalbanker.com/wp-content/uploads/2016/12/Real-Estate_resized.jpg)"
        },
        {
            "cell_type": "markdown",
            "metadata": {
                "collapsed": true
            },
            "source": "# Real State Investment in Colombia"
        },
        {
            "cell_type": "markdown",
            "metadata": {},
            "source": "## Data Science Capstone Project"
        },
        {
            "cell_type": "markdown",
            "metadata": {},
            "source": "#### Author: Juan Diego Moreno Gracia\n#### Bogot\u00e1, Colombia\n####  02-08-2020"
        },
        {
            "cell_type": "markdown",
            "metadata": {},
            "source": "## Briefing"
        },
        {
            "cell_type": "markdown",
            "metadata": {},
            "source": "Back then in the 1990s the group of people how thought about investments as an opportunity to grow their fortunes was limited to a small cluster that had high knowledge in financial tools. Nevertheless, these days people have become more conscious about the importance of investing, whether if it is in stocks, bonds, mutual funds, commodities or real state. This is due to facilities that the modern world gives to us, and not taking advantage of them would be a mistake."
        },
        {
            "cell_type": "markdown",
            "metadata": {},
            "source": "Investment in real state is one of the most common practices that people use when they want to manage their savings in a **safe** and **profitable** way. These are the main 2 reasons why people prefer real state instead of choosing other investment mechanism that sometimes can be more profitable but can imply higher risks.\nThe purpose of this project is to make a deep analysis of real investment in Colombia. Think in your self as a foreign investor that wants to live in Colombia and open a business, but you have never traveled there. For this reason, you would like to know which are the best cities for buying a house and having a good return of investment after some years."
        },
        {
            "cell_type": "code",
            "execution_count": null,
            "metadata": {},
            "outputs": [],
            "source": ""
        }
    ],
    "metadata": {
        "kernelspec": {
            "display_name": "Python 3.6",
            "language": "python",
            "name": "python3"
        },
        "language_info": {
            "codemirror_mode": {
                "name": "ipython",
                "version": 3
            },
            "file_extension": ".py",
            "mimetype": "text/x-python",
            "name": "python",
            "nbconvert_exporter": "python",
            "pygments_lexer": "ipython3",
            "version": "3.6.9"
        }
    },
    "nbformat": 4,
    "nbformat_minor": 1
}